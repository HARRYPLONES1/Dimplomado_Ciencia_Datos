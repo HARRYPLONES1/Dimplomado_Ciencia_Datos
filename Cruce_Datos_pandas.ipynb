{
  "nbformat": 4,
  "nbformat_minor": 0,
  "metadata": {
    "colab": {
      "provenance": [],
      "authorship_tag": "ABX9TyMyG3KMeujs4/bjXAJMEOef",
      "include_colab_link": true
    },
    "kernelspec": {
      "name": "python3",
      "display_name": "Python 3"
    },
    "language_info": {
      "name": "python"
    }
  },
  "cells": [
    {
      "cell_type": "markdown",
      "metadata": {
        "id": "view-in-github",
        "colab_type": "text"
      },
      "source": [
        "<a href=\"https://colab.research.google.com/github/HARRYPLONES1/PORTAFILIO_IA/blob/main/Cruce_Datos_pandas.ipynb\" target=\"_parent\"><img src=\"https://colab.research.google.com/assets/colab-badge.svg\" alt=\"Open In Colab\"/></a>"
      ]
    },
    {
      "cell_type": "code",
      "execution_count": null,
      "metadata": {
        "id": "sWio1BUEm4Px"
      },
      "outputs": [],
      "source": [
        "import pandas as pd\n",
        "\n",
        "# Especifica la ruta completa o la URL del archivo Excel\n",
        "ruta_archivo = '/content/df1.xlsx'\n",
        "\n",
        "# Carga el archivo Excel en un DataFrame\n",
        "df = pd.read_excel(ruta_archivo)"
      ]
    },
    {
      "cell_type": "code",
      "source": [
        "df.head()"
      ],
      "metadata": {
        "id": "NzsV6Uxiol51"
      },
      "execution_count": null,
      "outputs": []
    },
    {
      "cell_type": "code",
      "source": [
        "df.dtypes"
      ],
      "metadata": {
        "id": "ayhei_j3pwhn"
      },
      "execution_count": null,
      "outputs": []
    },
    {
      "cell_type": "code",
      "source": [
        "elementos_unicos1 = df['TIPO_DE_AUTORIDAD'].unique()\n",
        "print(elementos_unicos1)"
      ],
      "metadata": {
        "id": "Mx2Ne3O27LrM"
      },
      "execution_count": null,
      "outputs": []
    },
    {
      "cell_type": "code",
      "source": [
        "#Las columnas que se van a cruzar\n",
        "nombres_de_columnas = df.columns.tolist()\n",
        "\n",
        "print(nombres_de_columnas)"
      ],
      "metadata": {
        "id": "a37Ymi6AAXe5"
      },
      "execution_count": null,
      "outputs": []
    },
    {
      "cell_type": "code",
      "source": [
        "#colocar nombres entre corchetes('') para eliminarla de la tabla\n",
        "columnas_a_eliminar = ['NORMALIZACION', '¿Autoriza_usted_a_ENSAMBLE_XL_SAS_al_tratamiento_de_sus_datos_personales?', '2._Señale_las\\xa0MEJORES_EMPRESAS_DE_PETRÓLEO_Y_GAS_en_Colombia._Puede_incluir_hasta_cinco.__[1a][EMPRESAS]', '2._Señale_las\\xa0MEJORES_EMPRESAS_DE_PETRÓLEO_Y_GAS_en_Colombia._Puede_incluir_hasta_cinco.__[2a][EMPRESAS]', '2._Señale_las\\xa0MEJORES_EMPRESAS_DE_PETRÓLEO_Y_GAS_en_Colombia._Puede_incluir_hasta_cinco.__[3a][EMPRESAS]', '2._Señale_las\\xa0MEJORES_EMPRESAS_DE_PETRÓLEO_Y_GAS_en_Colombia._Puede_incluir_hasta_cinco.__[4a][EMPRESAS]', '2._Señale_las\\xa0MEJORES_EMPRESAS_DE_PETRÓLEO_Y_GAS_en_Colombia._Puede_incluir_hasta_cinco.__[5a][EMPRESAS]', '3._¿Cuál_cree_Ud._que_es:__[a._La_empresa_de_petróleo_y_gas_que_tiene_las_mejores_prácticas_ambientales_en_el_país][]', '3._¿Cuál_cree_Ud._que_es:__[b._La_empresa_petróleo_y_gas_que_tiene_las_mejores_prácticas_de_responsabilidad_social][]']\n",
        "df = df.drop(columns=columnas_a_eliminar)\n"
      ],
      "metadata": {
        "id": "9Z_dFFuJJyLy"
      },
      "execution_count": null,
      "outputs": []
    },
    {
      "cell_type": "code",
      "source": [
        "nombres_de_columnas = df.columns.tolist()\n",
        "print(nombres_de_columnas)"
      ],
      "metadata": {
        "id": "8QgOb1cgxOkv"
      },
      "execution_count": null,
      "outputs": []
    },
    {
      "cell_type": "code",
      "source": [
        "columnas_s = nombres_de_columnas\n",
        "# Crear un diccionario para almacenar los DataFrames de conteo\n",
        "dataframes_contador = {}\n",
        "\n",
        "# Iterar sobre cada columna 's' y contar las combinaciones con 'TIPO_DE_AUTORIDAD'\n",
        "for columna_s in columnas_s:\n",
        "    # Crear un nuevo DataFrame para contar las combinaciones\n",
        "    df_contador = df.groupby(['TIPO_DE_AUTORIDAD', columna_s]).size().unstack(fill_value=0)\n",
        "\n",
        "    #\"\"\"\"\n",
        "    #df_contador=df_contador.T\n",
        "    df_sum=df_contador.sum(axis=1)\n",
        "    suma_total = df_contador.sum().sum()\n",
        "    df_sum= df_sum.to_frame()\n",
        "    df_contador=df_contador.T\n",
        "\n",
        "    suma_filas = df_contador.sum(axis=1)\n",
        "\n",
        "\n",
        "    # Calcula la suma de cada fila y crea un DataFrame con esas sumas\n",
        "    df_suma = df_contador.sum(axis=0)\n",
        "    suma_total = df_contador.sum().sum()#c\n",
        "\n",
        "\n",
        "\n",
        "    # Normaliza las filas dividiendo el DataFrame original por las sumas\n",
        "    df_contador_normalizado = df_contador.div(df_suma, axis=1).round(2)\n",
        "\n",
        "\n",
        "    # Agrega las filas normalizadas como una nueva fila al DataFrame original usando pd.concat\n",
        "    df_contador = pd.concat([df_contador, df_contador_normalizado], axis=0,ignore_index=False)\n",
        "    #corregir aca\"\"\"\n",
        "    # Muestra el nuevo DataFrame con las filas originales y normalizadas\n",
        "\n",
        "    df_contador['suma'] = ((suma_filas / suma_total)*100).round(2)#c\n",
        "    df_normalizado = df_contador.div(df_suma, axis=1).round(2)\n",
        "    df_normalizado= df_normalizado.sum(axis=0)\n",
        "    df_normalizado=df_normalizado.to_frame()\n",
        "\n",
        "    df_contador=df_contador.T\n",
        "    df_contador[\"SUMA\"]=df_sum\n",
        "    df_contador[\"SUMA%\"]=df_normalizado\n",
        "    df_contador=df_contador.T\n",
        "\n",
        "    #\"\"\"\n",
        "    #\"\"\"\"\n",
        "    # Almacenar el DataFrame en el diccionario\n",
        "    dataframes_contador[columna_s] = df_contador\n",
        "\n",
        "# Mostrar los DataFrames de conteo\n",
        "df2=[]\n",
        "for columna_s, df_contador in dataframes_contador.items():\n",
        "    df2 = pd.DataFrame(df_contador)\n",
        "    df2 = pd.concat(dataframes_contador, axis=0)\n",
        "\n"
      ],
      "metadata": {
        "id": "TRT5cFVM_eWU"
      },
      "execution_count": null,
      "outputs": []
    },
    {
      "cell_type": "code",
      "source": [
        "#df2=df2.T\n",
        "df2"
      ],
      "metadata": {
        "id": "uYBXyVRjr6xZ"
      },
      "execution_count": null,
      "outputs": []
    },
    {
      "cell_type": "code",
      "source": [
        "df2.to_excel('df2.xlsx', index=True)\n",
        "\n",
        "# Descargar el archivo XLSX desde Colab a tu sistema local\n",
        "from google.colab import files\n",
        "files.download('df2.xlsx')"
      ],
      "metadata": {
        "id": "-efKMRv1rBqW"
      },
      "execution_count": null,
      "outputs": []
    }
  ]
}