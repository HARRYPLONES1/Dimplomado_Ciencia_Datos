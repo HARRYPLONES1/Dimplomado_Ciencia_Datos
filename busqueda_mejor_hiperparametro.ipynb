{
  "nbformat": 4,
  "nbformat_minor": 0,
  "metadata": {
    "colab": {
      "provenance": [],
      "authorship_tag": "ABX9TyPXsjwdLtccdmMYdy7M/YX0",
      "include_colab_link": true
    },
    "kernelspec": {
      "name": "python3",
      "display_name": "Python 3"
    },
    "language_info": {
      "name": "python"
    }
  },
  "cells": [
    {
      "cell_type": "markdown",
      "metadata": {
        "id": "view-in-github",
        "colab_type": "text"
      },
      "source": [
        "<a href=\"https://colab.research.google.com/github/HARRYPLONES1/PORTAFILIO_IA/blob/main/busqueda_mejor_hiperparametro.ipynb\" target=\"_parent\"><img src=\"https://colab.research.google.com/assets/colab-badge.svg\" alt=\"Open In Colab\"/></a>"
      ]
    },
    {
      "cell_type": "code",
      "source": [
        "from sklearn import datasets\n",
        "from sklearn.svm import SVC\n",
        "from sklearn.model_selection import cross_val_score\n",
        "import numpy as np\n",
        "from sklearn.model_selection import GridSearchCV"
      ],
      "metadata": {
        "id": "yVcKRtmlGWN2"
      },
      "execution_count": null,
      "outputs": []
    },
    {
      "cell_type": "code",
      "source": [
        "iris = datasets.load_iris()\n",
        "X = iris.data\n",
        "y = iris.target"
      ],
      "metadata": {
        "id": "cHVFvrA2Gkre"
      },
      "execution_count": null,
      "outputs": []
    },
    {
      "cell_type": "code",
      "source": [
        "def evaluate_hyperparameters(C, gamma, kernel, X, y):\n",
        "    # Crear y entrenar el modelo\n",
        "    model = SVC(C=C, gamma=gamma, kernel=kernel)\n",
        "    scores = cross_val_score(model, X, y, cv=5)\n",
        "    return scores.mean()\n"
      ],
      "metadata": {
        "id": "FGyJg8e7C103"
      },
      "execution_count": null,
      "outputs": []
    },
    {
      "cell_type": "code",
      "source": [
        "C = 1.0\n",
        "gamma = 'scale'\n",
        "kernel = 'rbf'\n",
        "accuracy = evaluate_hyperparameters(C, gamma, kernel, X, y)\n",
        "print(\"Accuracy:\", accuracy)"
      ],
      "metadata": {
        "colab": {
          "base_uri": "https://localhost:8080/"
        },
        "id": "tK1xra7qGoMd",
        "outputId": "8e70d821-9059-4693-fc49-b0cd4c781895"
      },
      "execution_count": null,
      "outputs": [
        {
          "output_type": "stream",
          "name": "stdout",
          "text": [
            "Accuracy: 0.9666666666666666\n"
          ]
        }
      ]
    },
    {
      "cell_type": "code",
      "source": [],
      "metadata": {
        "id": "bQNcE3R9FaG1"
      },
      "execution_count": null,
      "outputs": []
    },
    {
      "cell_type": "code",
      "source": [
        "param_grid = {\n",
        "    'C': np.linspace(0.1, 10, 100),\n",
        "    'gamma': ['scale', 'auto'],  # Valores comunes para gamma\n",
        "    'kernel': ['linear', 'poly', 'rbf']  # Corrigiendo los kernels\n",
        "}"
      ],
      "metadata": {
        "id": "er4tKjB8FaUd"
      },
      "execution_count": null,
      "outputs": []
    },
    {
      "cell_type": "code",
      "source": [
        "svc = SVC()\n",
        "\n",
        "# Realizar la búsqueda en grid\n",
        "grid_search = GridSearchCV(svc, param_grid, cv=5)\n",
        "grid_search.fit(X, y)\n",
        "\n",
        "# Imprimir los mejores parámetros y el mejor puntaje\n",
        "print(\"Mejores parámetros:\", grid_search.best_params_)\n",
        "print(\"Mejor puntaje:\", grid_search.best_score_)\n"
      ],
      "metadata": {
        "colab": {
          "base_uri": "https://localhost:8080/"
        },
        "id": "YQNFGGgbKWax",
        "outputId": "5de29fb4-bb3e-4665-f1b3-9b8ae242333b"
      },
      "execution_count": null,
      "outputs": [
        {
          "output_type": "stream",
          "name": "stdout",
          "text": [
            "Mejores parámetros: {'C': 0.1, 'gamma': 'scale', 'kernel': 'poly'}\n",
            "Mejor puntaje: 0.9866666666666667\n"
          ]
        }
      ]
    }
  ]
}